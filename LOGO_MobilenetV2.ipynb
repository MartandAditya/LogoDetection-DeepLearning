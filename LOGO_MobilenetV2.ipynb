{
  "nbformat": 4,
  "nbformat_minor": 0,
  "metadata": {
    "colab": {
      "name": "LOGO-MobilenetV2.ipynb",
      "provenance": [],
      "collapsed_sections": [],
      "authorship_tag": "ABX9TyOCDNfFs1PSVFzwr36mjcpO",
      "include_colab_link": true
    },
    "kernelspec": {
      "name": "python3",
      "display_name": "Python 3"
    },
    "accelerator": "GPU"
  },
  "cells": [
    {
      "cell_type": "markdown",
      "metadata": {
        "id": "view-in-github",
        "colab_type": "text"
      },
      "source": [
        "<a href=\"https://colab.research.google.com/github/SUSHOVAN95/LOGO-DETECTION-USING-CNN/blob/master/LOGO_MobilenetV2.ipynb\" target=\"_parent\"><img src=\"https://colab.research.google.com/assets/colab-badge.svg\" alt=\"Open In Colab\"/></a>"
      ]
    },
    {
      "cell_type": "code",
      "metadata": {
        "id": "gBPYtKzUraUO",
        "colab_type": "code",
        "colab": {}
      },
      "source": [
        "# import the necessary packages\n",
        "from tensorflow.keras.preprocessing.image import ImageDataGenerator\n",
        "from tensorflow.keras.applications import MobileNetV2\n",
        "from tensorflow.keras.layers import AveragePooling2D\n",
        "from tensorflow.keras.layers import Dropout\n",
        "from tensorflow.keras.layers import Flatten\n",
        "from tensorflow.keras.layers import Dense\n",
        "from tensorflow.keras.layers import Input\n",
        "from tensorflow.keras.models import Model\n",
        "from tensorflow.keras.optimizers import Adam,SGD\n",
        "from tensorflow.keras.applications.mobilenet_v2 import preprocess_input\n",
        "from tensorflow.keras.preprocessing.image import img_to_array\n",
        "from tensorflow.keras.preprocessing.image import load_img\n",
        "from tensorflow.keras.utils import to_categorical\n",
        "from sklearn.preprocessing import LabelBinarizer\n",
        "from sklearn.model_selection import train_test_split\n",
        "from sklearn.metrics import classification_report\n",
        "from imutils import paths\n",
        "import matplotlib.pyplot as plt\n",
        "import numpy as np\n",
        "import argparse\n",
        "import os\n",
        "import cv2\n",
        "import tensorflow as tf\n",
        "import tensorflow_datasets.public_api as tfds"
      ],
      "execution_count": null,
      "outputs": []
    },
    {
      "cell_type": "code",
      "metadata": {
        "id": "2w1kfnoNuvdU",
        "colab_type": "code",
        "colab": {
          "base_uri": "https://localhost:8080/",
          "height": 51
        },
        "outputId": "152d859f-78b2-49ee-d4da-0d579e50e96e"
      },
      "source": [
        "_URL = 'http://image.ntua.gr/iva/datasets/flickr_logos/flickr_logos_27_dataset.tar.gz'\n",
        "zip_dir = tf.keras.utils.get_file('/content/logo', origin=_URL, untar=True,extract=True)"
      ],
      "execution_count": null,
      "outputs": [
        {
          "output_type": "stream",
          "text": [
            "Downloading data from http://image.ntua.gr/iva/datasets/flickr_logos/flickr_logos_27_dataset.tar.gz\n",
            "101834752/101827904 [==============================] - 6s 0us/step\n"
          ],
          "name": "stdout"
        }
      ]
    },
    {
      "cell_type": "code",
      "metadata": {
        "id": "pLXxWcqJ4U4S",
        "colab_type": "code",
        "colab": {}
      },
      "source": [
        "import tarfile\n",
        "\n",
        "fname = '/content/logo.tar.gz'\n",
        "\n",
        "if fname.endswith(\"tar.gz\"):\n",
        "    tar = tarfile.open(fname, \"r:gz\")\n",
        "    tar.extractall()\n",
        "    tar.close()"
      ],
      "execution_count": null,
      "outputs": []
    },
    {
      "cell_type": "code",
      "metadata": {
        "id": "DSUiys0P5xj-",
        "colab_type": "code",
        "colab": {}
      },
      "source": [
        "fname = '/content/flickr_logos_27_dataset/flickr_logos_27_dataset_images.tar.gz'\n",
        "\n",
        "if fname.endswith(\"tar.gz\"):\n",
        "    tar = tarfile.open(fname, \"r:gz\")\n",
        "    tar.extractall()\n",
        "    tar.close()"
      ],
      "execution_count": null,
      "outputs": []
    },
    {
      "cell_type": "code",
      "metadata": {
        "id": "2T_6FRvr6ct4",
        "colab_type": "code",
        "colab": {}
      },
      "source": [
        "src_dir = \"flickr_logos_27_dataset_images\"\n",
        "dest = \"LOGOS\"\n",
        "\n",
        "if not os.path.exists(dest):\n",
        "    os.makedirs(dest)"
      ],
      "execution_count": null,
      "outputs": []
    },
    {
      "cell_type": "code",
      "metadata": {
        "id": "opHoq3-LAzBw",
        "colab_type": "code",
        "colab": {}
      },
      "source": [
        "import pandas as pd\n",
        "from google.colab.patches import cv2_imshow"
      ],
      "execution_count": null,
      "outputs": []
    },
    {
      "cell_type": "code",
      "metadata": {
        "id": "PW6txK1lAdWm",
        "colab_type": "code",
        "colab": {}
      },
      "source": [
        "df = pd.read_csv(\"/content/flickr_logos_27_dataset/flickr_logos_27_dataset_training_set_annotation.txt\", sep='\\s+',header=None)"
      ],
      "execution_count": null,
      "outputs": []
    },
    {
      "cell_type": "code",
      "metadata": {
        "id": "mdFg6RjkAwr7",
        "colab_type": "code",
        "colab": {
          "base_uri": "https://localhost:8080/",
          "height": 419
        },
        "outputId": "3b1d901b-2d8f-4a93-9319-d85df22d493d"
      },
      "source": [
        "df"
      ],
      "execution_count": null,
      "outputs": [
        {
          "output_type": "execute_result",
          "data": {
            "text/html": [
              "<div>\n",
              "<style scoped>\n",
              "    .dataframe tbody tr th:only-of-type {\n",
              "        vertical-align: middle;\n",
              "    }\n",
              "\n",
              "    .dataframe tbody tr th {\n",
              "        vertical-align: top;\n",
              "    }\n",
              "\n",
              "    .dataframe thead th {\n",
              "        text-align: right;\n",
              "    }\n",
              "</style>\n",
              "<table border=\"1\" class=\"dataframe\">\n",
              "  <thead>\n",
              "    <tr style=\"text-align: right;\">\n",
              "      <th></th>\n",
              "      <th>0</th>\n",
              "      <th>1</th>\n",
              "      <th>2</th>\n",
              "      <th>3</th>\n",
              "      <th>4</th>\n",
              "      <th>5</th>\n",
              "      <th>6</th>\n",
              "    </tr>\n",
              "  </thead>\n",
              "  <tbody>\n",
              "    <tr>\n",
              "      <th>0</th>\n",
              "      <td>144503924.jpg</td>\n",
              "      <td>Adidas</td>\n",
              "      <td>1</td>\n",
              "      <td>38</td>\n",
              "      <td>12</td>\n",
              "      <td>234</td>\n",
              "      <td>142</td>\n",
              "    </tr>\n",
              "    <tr>\n",
              "      <th>1</th>\n",
              "      <td>2451569770.jpg</td>\n",
              "      <td>Adidas</td>\n",
              "      <td>1</td>\n",
              "      <td>242</td>\n",
              "      <td>208</td>\n",
              "      <td>413</td>\n",
              "      <td>331</td>\n",
              "    </tr>\n",
              "    <tr>\n",
              "      <th>2</th>\n",
              "      <td>390321909.jpg</td>\n",
              "      <td>Adidas</td>\n",
              "      <td>1</td>\n",
              "      <td>13</td>\n",
              "      <td>5</td>\n",
              "      <td>89</td>\n",
              "      <td>60</td>\n",
              "    </tr>\n",
              "    <tr>\n",
              "      <th>3</th>\n",
              "      <td>4761260517.jpg</td>\n",
              "      <td>Adidas</td>\n",
              "      <td>1</td>\n",
              "      <td>43</td>\n",
              "      <td>122</td>\n",
              "      <td>358</td>\n",
              "      <td>354</td>\n",
              "    </tr>\n",
              "    <tr>\n",
              "      <th>4</th>\n",
              "      <td>4763210295.jpg</td>\n",
              "      <td>Adidas</td>\n",
              "      <td>1</td>\n",
              "      <td>83</td>\n",
              "      <td>63</td>\n",
              "      <td>130</td>\n",
              "      <td>93</td>\n",
              "    </tr>\n",
              "    <tr>\n",
              "      <th>...</th>\n",
              "      <td>...</td>\n",
              "      <td>...</td>\n",
              "      <td>...</td>\n",
              "      <td>...</td>\n",
              "      <td>...</td>\n",
              "      <td>...</td>\n",
              "      <td>...</td>\n",
              "    </tr>\n",
              "    <tr>\n",
              "      <th>4531</th>\n",
              "      <td>2126991906.jpg</td>\n",
              "      <td>Yahoo</td>\n",
              "      <td>6</td>\n",
              "      <td>15</td>\n",
              "      <td>6</td>\n",
              "      <td>253</td>\n",
              "      <td>54</td>\n",
              "    </tr>\n",
              "    <tr>\n",
              "      <th>4532</th>\n",
              "      <td>217288720.jpg</td>\n",
              "      <td>Yahoo</td>\n",
              "      <td>6</td>\n",
              "      <td>136</td>\n",
              "      <td>161</td>\n",
              "      <td>304</td>\n",
              "      <td>222</td>\n",
              "    </tr>\n",
              "    <tr>\n",
              "      <th>4533</th>\n",
              "      <td>2472817996.jpg</td>\n",
              "      <td>Yahoo</td>\n",
              "      <td>6</td>\n",
              "      <td>2</td>\n",
              "      <td>4</td>\n",
              "      <td>499</td>\n",
              "      <td>106</td>\n",
              "    </tr>\n",
              "    <tr>\n",
              "      <th>4534</th>\n",
              "      <td>2514220918.jpg</td>\n",
              "      <td>Yahoo</td>\n",
              "      <td>6</td>\n",
              "      <td>1</td>\n",
              "      <td>69</td>\n",
              "      <td>342</td>\n",
              "      <td>157</td>\n",
              "    </tr>\n",
              "    <tr>\n",
              "      <th>4535</th>\n",
              "      <td>386891249.jpg</td>\n",
              "      <td>Yahoo</td>\n",
              "      <td>6</td>\n",
              "      <td>156</td>\n",
              "      <td>10</td>\n",
              "      <td>310</td>\n",
              "      <td>49</td>\n",
              "    </tr>\n",
              "  </tbody>\n",
              "</table>\n",
              "<p>4536 rows × 7 columns</p>\n",
              "</div>"
            ],
            "text/plain": [
              "                   0       1  2    3    4    5    6\n",
              "0      144503924.jpg  Adidas  1   38   12  234  142\n",
              "1     2451569770.jpg  Adidas  1  242  208  413  331\n",
              "2      390321909.jpg  Adidas  1   13    5   89   60\n",
              "3     4761260517.jpg  Adidas  1   43  122  358  354\n",
              "4     4763210295.jpg  Adidas  1   83   63  130   93\n",
              "...              ...     ... ..  ...  ...  ...  ...\n",
              "4531  2126991906.jpg   Yahoo  6   15    6  253   54\n",
              "4532   217288720.jpg   Yahoo  6  136  161  304  222\n",
              "4533  2472817996.jpg   Yahoo  6    2    4  499  106\n",
              "4534  2514220918.jpg   Yahoo  6    1   69  342  157\n",
              "4535   386891249.jpg   Yahoo  6  156   10  310   49\n",
              "\n",
              "[4536 rows x 7 columns]"
            ]
          },
          "metadata": {
            "tags": []
          },
          "execution_count": 8
        }
      ]
    },
    {
      "cell_type": "code",
      "metadata": {
        "id": "JrHTDiAsEDPK",
        "colab_type": "code",
        "colab": {}
      },
      "source": [
        "dtdir = '/content/flickr_logos_27_dataset_images/'"
      ],
      "execution_count": null,
      "outputs": []
    },
    {
      "cell_type": "code",
      "metadata": {
        "id": "M57_9LjXDr9Y",
        "colab_type": "code",
        "colab": {}
      },
      "source": [
        "im = df[0][0]"
      ],
      "execution_count": null,
      "outputs": []
    },
    {
      "cell_type": "code",
      "metadata": {
        "id": "GHW47r8vFAY5",
        "colab_type": "code",
        "colab": {}
      },
      "source": [
        "size = df.iloc[:,3:]"
      ],
      "execution_count": null,
      "outputs": []
    },
    {
      "cell_type": "code",
      "metadata": {
        "id": "4cm1vhfwFOyK",
        "colab_type": "code",
        "colab": {
          "base_uri": "https://localhost:8080/",
          "height": 419
        },
        "outputId": "a3da0dbc-5375-4f00-d5d5-0c485c21f7f0"
      },
      "source": [
        "size"
      ],
      "execution_count": null,
      "outputs": [
        {
          "output_type": "execute_result",
          "data": {
            "text/html": [
              "<div>\n",
              "<style scoped>\n",
              "    .dataframe tbody tr th:only-of-type {\n",
              "        vertical-align: middle;\n",
              "    }\n",
              "\n",
              "    .dataframe tbody tr th {\n",
              "        vertical-align: top;\n",
              "    }\n",
              "\n",
              "    .dataframe thead th {\n",
              "        text-align: right;\n",
              "    }\n",
              "</style>\n",
              "<table border=\"1\" class=\"dataframe\">\n",
              "  <thead>\n",
              "    <tr style=\"text-align: right;\">\n",
              "      <th></th>\n",
              "      <th>3</th>\n",
              "      <th>4</th>\n",
              "      <th>5</th>\n",
              "      <th>6</th>\n",
              "    </tr>\n",
              "  </thead>\n",
              "  <tbody>\n",
              "    <tr>\n",
              "      <th>0</th>\n",
              "      <td>38</td>\n",
              "      <td>12</td>\n",
              "      <td>234</td>\n",
              "      <td>142</td>\n",
              "    </tr>\n",
              "    <tr>\n",
              "      <th>1</th>\n",
              "      <td>242</td>\n",
              "      <td>208</td>\n",
              "      <td>413</td>\n",
              "      <td>331</td>\n",
              "    </tr>\n",
              "    <tr>\n",
              "      <th>2</th>\n",
              "      <td>13</td>\n",
              "      <td>5</td>\n",
              "      <td>89</td>\n",
              "      <td>60</td>\n",
              "    </tr>\n",
              "    <tr>\n",
              "      <th>3</th>\n",
              "      <td>43</td>\n",
              "      <td>122</td>\n",
              "      <td>358</td>\n",
              "      <td>354</td>\n",
              "    </tr>\n",
              "    <tr>\n",
              "      <th>4</th>\n",
              "      <td>83</td>\n",
              "      <td>63</td>\n",
              "      <td>130</td>\n",
              "      <td>93</td>\n",
              "    </tr>\n",
              "    <tr>\n",
              "      <th>...</th>\n",
              "      <td>...</td>\n",
              "      <td>...</td>\n",
              "      <td>...</td>\n",
              "      <td>...</td>\n",
              "    </tr>\n",
              "    <tr>\n",
              "      <th>4531</th>\n",
              "      <td>15</td>\n",
              "      <td>6</td>\n",
              "      <td>253</td>\n",
              "      <td>54</td>\n",
              "    </tr>\n",
              "    <tr>\n",
              "      <th>4532</th>\n",
              "      <td>136</td>\n",
              "      <td>161</td>\n",
              "      <td>304</td>\n",
              "      <td>222</td>\n",
              "    </tr>\n",
              "    <tr>\n",
              "      <th>4533</th>\n",
              "      <td>2</td>\n",
              "      <td>4</td>\n",
              "      <td>499</td>\n",
              "      <td>106</td>\n",
              "    </tr>\n",
              "    <tr>\n",
              "      <th>4534</th>\n",
              "      <td>1</td>\n",
              "      <td>69</td>\n",
              "      <td>342</td>\n",
              "      <td>157</td>\n",
              "    </tr>\n",
              "    <tr>\n",
              "      <th>4535</th>\n",
              "      <td>156</td>\n",
              "      <td>10</td>\n",
              "      <td>310</td>\n",
              "      <td>49</td>\n",
              "    </tr>\n",
              "  </tbody>\n",
              "</table>\n",
              "<p>4536 rows × 4 columns</p>\n",
              "</div>"
            ],
            "text/plain": [
              "        3    4    5    6\n",
              "0      38   12  234  142\n",
              "1     242  208  413  331\n",
              "2      13    5   89   60\n",
              "3      43  122  358  354\n",
              "4      83   63  130   93\n",
              "...   ...  ...  ...  ...\n",
              "4531   15    6  253   54\n",
              "4532  136  161  304  222\n",
              "4533    2    4  499  106\n",
              "4534    1   69  342  157\n",
              "4535  156   10  310   49\n",
              "\n",
              "[4536 rows x 4 columns]"
            ]
          },
          "metadata": {
            "tags": []
          },
          "execution_count": 12
        }
      ]
    },
    {
      "cell_type": "code",
      "metadata": {
        "id": "Dg_Ok6GzD6Vx",
        "colab_type": "code",
        "colab": {}
      },
      "source": [
        "img = os.path.join(dtdir,im)"
      ],
      "execution_count": null,
      "outputs": []
    },
    {
      "cell_type": "code",
      "metadata": {
        "id": "QpTIR5u9Ii5E",
        "colab_type": "code",
        "colab": {}
      },
      "source": [
        "size = size.values.tolist()"
      ],
      "execution_count": null,
      "outputs": []
    },
    {
      "cell_type": "code",
      "metadata": {
        "id": "m03w9M4BJZ31",
        "colab_type": "code",
        "colab": {
          "base_uri": "https://localhost:8080/",
          "height": 34
        },
        "outputId": "91367b7a-6da6-469e-8990-264d12106cdb"
      },
      "source": [
        "size[0][0],size[0][1],size[0][2],size[0][3]"
      ],
      "execution_count": null,
      "outputs": [
        {
          "output_type": "execute_result",
          "data": {
            "text/plain": [
              "(38, 12, 234, 142)"
            ]
          },
          "metadata": {
            "tags": []
          },
          "execution_count": 15
        }
      ]
    },
    {
      "cell_type": "code",
      "metadata": {
        "id": "lpzAhSlJNdWY",
        "colab_type": "code",
        "colab": {
          "base_uri": "https://localhost:8080/",
          "height": 244
        },
        "outputId": "bc9fa236-3d6d-4195-be54-08294fe5b348"
      },
      "source": [
        "image = cv2.imread(img)\n",
        "cv2_imshow(image)\n",
        "image.shape"
      ],
      "execution_count": null,
      "outputs": [
        {
          "output_type": "display_data",
          "data": {
            "image/png": "[encoded data removed]",
            "text/plain": [
              "<PIL.Image.Image image mode=RGB size=280x210 at 0x7F2200C9F2B0>"
            ]
          },
          "metadata": {
            "tags": []
          }
        },
        {
          "output_type": "execute_result",
          "data": {
            "text/plain": [
              "(210, 280, 3)"
            ]
          },
          "metadata": {
            "tags": []
          },
          "execution_count": 16
        }
      ]
    },
    {
      "cell_type": "code",
      "metadata": {
        "id": "buGQ1UawA-2y",
        "colab_type": "code",
        "colab": {
          "base_uri": "https://localhost:8080/",
          "height": 164
        },
        "outputId": "b3c697a0-3709-4fd9-c29e-fceaa2ee371d"
      },
      "source": [
        "image = cv2.imread(img)\n",
        "image = image[size[0][1]:size[0][3],size[0][0]:size[0][2]]\n",
        "cv2_imshow(image)\n",
        "image.shape"
      ],
      "execution_count": null,
      "outputs": [
        {
          "output_type": "display_data",
          "data": {
            "image/png": "[encoded data removed]",
            "text/plain": [
              "<PIL.Image.Image image mode=RGB size=196x130 at 0x7F2200BAD710>"
            ]
          },
          "metadata": {
            "tags": []
          }
        },
        {
          "output_type": "execute_result",
          "data": {
            "text/plain": [
              "(130, 196, 3)"
            ]
          },
          "metadata": {
            "tags": []
          },
          "execution_count": 17
        }
      ]
    },
    {
      "cell_type": "code",
      "metadata": {
        "id": "Efbi-70iLIOU",
        "colab_type": "code",
        "colab": {}
      },
      "source": [
        "X = df.iloc[:,0]\n",
        "Y = df.iloc[:,1]"
      ],
      "execution_count": null,
      "outputs": []
    },
    {
      "cell_type": "code",
      "metadata": {
        "id": "3GztE1UVPbKz",
        "colab_type": "code",
        "colab": {}
      },
      "source": [
        "y = list(set(list(Y)))\n",
        "y.sort()"
      ],
      "execution_count": null,
      "outputs": []
    },
    {
      "cell_type": "code",
      "metadata": {
        "id": "AZBDvSkAk6W0",
        "colab_type": "code",
        "colab": {}
      },
      "source": [
        "for i in y:\n",
        "    os.makedirs(os.path.join(dest,i))"
      ],
      "execution_count": null,
      "outputs": []
    },
    {
      "cell_type": "code",
      "metadata": {
        "id": "kqdjB3EyOMRz",
        "colab_type": "code",
        "colab": {
          "base_uri": "https://localhost:8080/",
          "height": 102
        },
        "outputId": "a57394c0-3164-484a-d348-a1714d3a31c8"
      },
      "source": [
        "for i in range(len(X)):\n",
        "    try:\n",
        "        destrain = os.path.join(dest,Y[i])\n",
        "        savepath = os.path.join(destrain,X[i])\n",
        "        img  = os.path.join(dtdir,X[i])\n",
        "        image = cv2.imread(img)\n",
        "        image = image[size[i][1]:size[i][3],size[i][0]:size[i][2]]\n",
        "        image = cv2.resize(image,(224,224))\n",
        "        cv2.imwrite(savepath,image)\n",
        "    except:\n",
        "        print('error')\n",
        "        pass\n"
      ],
      "execution_count": null,
      "outputs": [
        {
          "output_type": "stream",
          "text": [
            "error\n",
            "error\n",
            "error\n",
            "error\n",
            "error\n"
          ],
          "name": "stdout"
        }
      ]
    },
    {
      "cell_type": "code",
      "metadata": {
        "id": "eIJH2pUfR6eV",
        "colab_type": "code",
        "colab": {
          "base_uri": "https://localhost:8080/",
          "height": 71
        },
        "outputId": "5162c9c1-ac50-4ded-f34d-fd670e452b5a"
      },
      "source": [
        "train = ImageDataGenerator(\n",
        "horizontal_flip=True,\n",
        "vertical_flip=True,\n",
        "shear_range=0.2,\n",
        "zoom_range=0.2,\n",
        "featurewise_center=True, # Set input mean to 0 over the dataset, feature-wise\n",
        "featurewise_std_normalization=True, # Divide inputs by std of the dataset, feature-wise\n",
        "zca_whitening=True, # Apply ZCA whitening\n",
        "rotation_range=40, # Degree range for random rotations\n",
        "width_shift_range=0.2,\n",
        "height_shift_range=0.2,\n",
        "fill_mode='nearest',\n",
        "validation_split=0.1)"
      ],
      "execution_count": null,
      "outputs": [
        {
          "output_type": "stream",
          "text": [
            "/usr/local/lib/python3.6/dist-packages/keras_preprocessing/image/image_data_generator.py:342: UserWarning: This ImageDataGenerator specifies `zca_whitening` which overrides setting of`featurewise_std_normalization`.\n",
            "  warnings.warn('This ImageDataGenerator specifies '\n"
          ],
          "name": "stderr"
        }
      ]
    },
    {
      "cell_type": "code",
      "metadata": {
        "id": "sl1PNhXBTQ2Y",
        "colab_type": "code",
        "colab": {}
      },
      "source": [
        "HEIGHT = 224\n",
        "WIDTH = 224\n",
        "INIT_LR = 1e-4\n",
        "EPOCHS = 200 \n",
        "BS = 16"
      ],
      "execution_count": null,
      "outputs": []
    },
    {
      "cell_type": "code",
      "metadata": {
        "id": "slVYTU8ATiJM",
        "colab_type": "code",
        "colab": {
          "base_uri": "https://localhost:8080/",
          "height": 34
        },
        "outputId": "4da180b2-4efd-4107-b1eb-c55ea794a188"
      },
      "source": [
        "trainset = train.flow_from_directory(dest,\n",
        "target_size = (WIDTH,HEIGHT),\n",
        "batch_size = BS,\n",
        "shuffle=False,\n",
        "seed=42,\n",
        "color_mode='rgb',\n",
        "class_mode='categorical')"
      ],
      "execution_count": null,
      "outputs": [
        {
          "output_type": "stream",
          "text": [
            "Found 809 images belonging to 27 classes.\n"
          ],
          "name": "stdout"
        }
      ]
    },
    {
      "cell_type": "code",
      "metadata": {
        "id": "7Mm0CwgRyxp3",
        "colab_type": "code",
        "colab": {
          "base_uri": "https://localhost:8080/",
          "height": 34
        },
        "outputId": "f2eef3b9-292d-4a89-a9e3-56c0945401b7"
      },
      "source": [
        "validset = train.flow_from_directory(dest,\n",
        "target_size = (WIDTH,HEIGHT),\n",
        "batch_size = BS,\n",
        "shuffle=False,\n",
        "seed=42,\n",
        "color_mode='rgb',\n",
        "class_mode='categorical',\n",
        "subset = 'validation')"
      ],
      "execution_count": null,
      "outputs": [
        {
          "output_type": "stream",
          "text": [
            "Found 80 images belonging to 27 classes.\n"
          ],
          "name": "stdout"
        }
      ]
    },
    {
      "cell_type": "code",
      "metadata": {
        "id": "lsafxg27o6l-",
        "colab_type": "code",
        "colab": {}
      },
      "source": [
        "imagePaths = list(paths.list_images(dest))"
      ],
      "execution_count": null,
      "outputs": []
    },
    {
      "cell_type": "code",
      "metadata": {
        "id": "ME1MG6Bgo-Uu",
        "colab_type": "code",
        "colab": {
          "base_uri": "https://localhost:8080/",
          "height": 35
        },
        "outputId": "8906dae6-10b1-40e9-e627-bfe7c4b4cce5"
      },
      "source": [
        "imagePaths[0]"
      ],
      "execution_count": null,
      "outputs": [
        {
          "output_type": "execute_result",
          "data": {
            "application/vnd.google.colaboratory.intrinsic+json": {
              "type": "string"
            },
            "text/plain": [
              "'LOGOS/Unicef/4684596669.jpg'"
            ]
          },
          "metadata": {
            "tags": []
          },
          "execution_count": 35
        }
      ]
    },
    {
      "cell_type": "code",
      "metadata": {
        "id": "IbXyTyK0pHB9",
        "colab_type": "code",
        "colab": {
          "base_uri": "https://localhost:8080/",
          "height": 258
        },
        "outputId": "2156f883-7c0c-47a4-dd3f-f5c39f61166d"
      },
      "source": [
        "image = cv2.imread(imagePaths[40])\n",
        "cv2_imshow(image)\n",
        "image.shape"
      ],
      "execution_count": null,
      "outputs": [
        {
          "output_type": "display_data",
          "data": {
            "image/png": "[encoded data removed]",
            "text/plain": [
              "<PIL.Image.Image image mode=RGB size=224x224 at 0x7F2200BBB048>"
            ]
          },
          "metadata": {
            "tags": []
          }
        },
        {
          "output_type": "execute_result",
          "data": {
            "text/plain": [
              "(224, 224, 3)"
            ]
          },
          "metadata": {
            "tags": []
          },
          "execution_count": 36
        }
      ]
    },
    {
      "cell_type": "code",
      "metadata": {
        "id": "l1yhZ0I2T-Ed",
        "colab_type": "code",
        "colab": {
          "base_uri": "https://localhost:8080/",
          "height": 105
        },
        "outputId": "b0782c78-2b86-4c6f-9f78-d3911bf0f8c0"
      },
      "source": [
        "# load the MobileNetV2 network, ensuring the head FC layer sets are\n",
        "# left off\n",
        "baseModel = MobileNetV2(weights=\"imagenet\", include_top=False,input_tensor=Input(shape=(224, 224, 3)))\n",
        "\n",
        "# construct the head of the model that will be placed on top of the\n",
        "# the base model\n",
        "headModel = baseModel.output\n",
        "headModel = AveragePooling2D(pool_size=(5, 5))(headModel)\n",
        "headModel = Flatten(name=\"flatten\")(headModel)\n",
        "headModel = Dense(128, activation=\"relu\")(headModel)\n",
        "headModel = Dropout(0.5)(headModel)\n",
        "headModel = Dense(27, activation=\"softmax\")(headModel)\n",
        "# place the head FC model on top of the base model (this will become\n",
        "# the actual model we will train)\n",
        "model = Model(inputs=baseModel.input, outputs=headModel)\n",
        "# loop over all layers in the base model and freeze them so they will\n",
        "# *not* be updated during the first training process\n",
        "for layer in baseModel.layers:\n",
        "\tlayer.trainable = False\n",
        "\n",
        "# compile our model\n",
        "print(\"[INFO] compiling model...\")\n",
        "opt = SGD(lr=INIT_LR, momentum = 0.9)\n",
        "model.compile(loss=\"categorical_crossentropy\", optimizer=opt,\n",
        "\tmetrics=[\"accuracy\"])\n",
        "# train the head of the network"
      ],
      "execution_count": null,
      "outputs": [
        {
          "output_type": "stream",
          "text": [
            "WARNING:tensorflow:`input_shape` is undefined or non-square, or `rows` is not in [96, 128, 160, 192, 224]. Weights for input shape (224, 224) will be loaded as the default.\n",
            "Downloading data from https://storage.googleapis.com/tensorflow/keras-applications/mobilenet_v2/mobilenet_v2_weights_tf_dim_ordering_tf_kernels_1.0_224_no_top.h5\n",
            "9412608/9406464 [==============================] - 0s 0us/step\n",
            "[INFO] compiling model...\n"
          ],
          "name": "stdout"
        }
      ]
    },
    {
      "cell_type": "code",
      "metadata": {
        "id": "DWsVetRNnDbK",
        "colab_type": "code",
        "colab": {
          "base_uri": "https://localhost:8080/",
          "height": 34
        },
        "outputId": "b5da88f8-f547-48e3-ca9f-483b4fe3ee64"
      },
      "source": [
        "totalTrain = len(list(paths.list_images(dest)))\n",
        "totalTrain"
      ],
      "execution_count": null,
      "outputs": [
        {
          "output_type": "execute_result",
          "data": {
            "text/plain": [
              "809"
            ]
          },
          "metadata": {
            "tags": []
          },
          "execution_count": 38
        }
      ]
    },
    {
      "cell_type": "code",
      "metadata": {
        "id": "UwuSQMJZWGBM",
        "colab_type": "code",
        "colab": {}
      },
      "source": [
        "H = model.fit_generator(\n",
        "\ttrainset,\n",
        "  validation_data = validset,\n",
        "\tepochs=EPOCHS)"
      ],
      "execution_count": null,
      "outputs": []
    },
    {
      "cell_type": "code",
      "metadata": {
        "id": "6eweq8YjnpF8",
        "colab_type": "code",
        "colab": {
          "base_uri": "https://localhost:8080/",
          "height": 316
        },
        "outputId": "6000a5a9-5b0f-49bb-aafe-16ce2055d6a4"
      },
      "source": [
        "# plot the training loss and accuracy\n",
        "N = EPOCHS\n",
        "plt.style.use(\"ggplot\")\n",
        "plt.figure()\n",
        "plt.plot(np.arange(0, N), H.history[\"loss\"], label=\"train_loss\")\n",
        "plt.plot(np.arange(0, N), H.history[\"val_loss\"], label=\"val_loss\")\n",
        "plt.title(\"Training Loss and Accuracy\")\n",
        "plt.xlabel(\"Epoch #\")\n",
        "plt.ylabel(\"Loss/Accuracy\")\n",
        "plt.legend(loc=\"lower left\")\n",
        "plt.show()\n",
        "plt.savefig('graph.png')"
      ],
      "execution_count": null,
      "outputs": [
        {
          "output_type": "display_data",
          "data": {
            "image/png": "[encoded data removed]",
            "text/plain": [
              "<Figure size 432x288 with 1 Axes>"
            ]
          },
          "metadata": {
            "tags": []
          }
        },
        {
          "output_type": "display_data",
          "data": {
            "text/plain": [
              "<Figure size 432x288 with 0 Axes>"
            ]
          },
          "metadata": {
            "tags": []
          }
        }
      ]
    },
    {
      "cell_type": "code",
      "metadata": {
        "id": "Z6bZTs1m5ykq",
        "colab_type": "code",
        "colab": {
          "base_uri": "https://localhost:8080/",
          "height": 299
        },
        "outputId": "d3226628-d5a3-47b8-8327-f284cc385226"
      },
      "source": [
        "N = EPOCHS\n",
        "plt.style.use(\"ggplot\")\n",
        "plt.figure()\n",
        "plt.plot(np.arange(0, N), H.history[\"accuracy\"], label=\"train_acc\")\n",
        "plt.plot(np.arange(0, N), H.history[\"val_accuracy\"], label=\"val_acc\")\n",
        "plt.title(\" Accuracy\")\n",
        "plt.xlabel(\"Epoch #\")\n",
        "plt.ylabel(\"Accuracy\")\n",
        "plt.legend(loc=\"lower left\")\n",
        "plt.show()"
      ],
      "execution_count": null,
      "outputs": [
        {
          "output_type": "display_data",
          "data": {
            "image/png": "[encoded data removed]",
            "text/plain": [
              "<Figure size 432x288 with 1 Axes>"
            ]
          },
          "metadata": {
            "tags": []
          }
        }
      ]
    },
    {
      "cell_type": "code",
      "metadata": {
        "id": "XN0gOD9RxffC",
        "colab_type": "code",
        "colab": {
          "base_uri": "https://localhost:8080/",
          "height": 717
        },
        "outputId": "49fcc841-5247-433a-eab5-2501002fe310"
      },
      "source": [
        "# reset the testing generator and then use our trained model to\n",
        "# make predictions on the data\n",
        "print(\"[INFO] evaluating after fine-tuning network...\")\n",
        "validset.reset()\n",
        "predIdxs = model.predict(x=validset)\n",
        "predIdxs = np.argmax(predIdxs, axis=1)\n",
        "print(classification_report(validset.classes, predIdxs,\n",
        "\ttarget_names=validset.class_indices.keys()))\n",
        "# serialize the model to disk\n",
        "print(\"[INFO] serializing network...\")\n",
        "model.save('logo.model', save_format=\"h5\")"
      ],
      "execution_count": null,
      "outputs": [
        {
          "output_type": "stream",
          "text": [
            "[INFO] evaluating after fine-tuning network...\n"
          ],
          "name": "stdout"
        },
        {
          "output_type": "stream",
          "text": [
            "/usr/local/lib/python3.6/dist-packages/keras_preprocessing/image/image_data_generator.py:720: UserWarning: This ImageDataGenerator specifies `featurewise_center`, but it hasn't been fit on any training data. Fit it first by calling `.fit(numpy_data)`.\n",
            "  warnings.warn('This ImageDataGenerator specifies '\n",
            "/usr/local/lib/python3.6/dist-packages/keras_preprocessing/image/image_data_generator.py:739: UserWarning: This ImageDataGenerator specifies `zca_whitening`, but it hasn't been fit on any training data. Fit it first by calling `.fit(numpy_data)`.\n",
            "  warnings.warn('This ImageDataGenerator specifies '\n"
          ],
          "name": "stderr"
        },
        {
          "output_type": "stream",
          "text": [
            "              precision    recall  f1-score   support\n",
            "\n",
            "      Adidas       0.60      0.50      0.55         6\n",
            "       Apple       0.67      0.67      0.67         6\n",
            "         BMW       0.80      0.67      0.73         6\n",
            "     Citroen       1.00      0.83      0.91         6\n",
            "    Cocacola       0.83      0.83      0.83         6\n",
            "         DHL       0.83      0.83      0.83         6\n",
            "       Fedex       0.83      0.83      0.83         6\n",
            "     Ferrari       1.00      0.67      0.80         6\n",
            "        Ford       0.75      1.00      0.86         6\n",
            "      Google       1.00      1.00      1.00         6\n",
            "          HP       1.00      0.67      0.80         6\n",
            "    Heineken       0.80      0.67      0.73         6\n",
            "       Intel       0.75      0.50      0.60         6\n",
            "   McDonalds       1.00      0.83      0.91         6\n",
            "        Mini       0.71      0.83      0.77         6\n",
            "         Nbc       0.62      0.83      0.71         6\n",
            "        Nike       0.83      0.83      0.83         6\n",
            "       Pepsi       0.80      0.67      0.73         6\n",
            "     Porsche       0.86      1.00      0.92         6\n",
            "        Puma       1.00      1.00      1.00         6\n",
            "     RedBull       0.80      0.80      0.80         5\n",
            "      Sprite       0.67      1.00      0.80         6\n",
            "   Starbucks       1.00      0.83      0.91         6\n",
            "      Texaco       0.83      0.83      0.83         6\n",
            "      Unicef       0.67      1.00      0.80         6\n",
            "    Vodafone       0.86      1.00      0.92         6\n",
            "       Yahoo       1.00      1.00      1.00         6\n",
            "\n",
            "    accuracy                           0.82       161\n",
            "   macro avg       0.83      0.82      0.82       161\n",
            "weighted avg       0.83      0.82      0.82       161\n",
            "\n",
            "[INFO] serializing network...\n"
          ],
          "name": "stdout"
        }
      ]
    },
    {
      "cell_type": "code",
      "metadata": {
        "id": "1Px_1pxT9UKo",
        "colab_type": "code",
        "colab": {}
      },
      "source": [
        ""
      ],
      "execution_count": null,
      "outputs": []
    }
  ]
}